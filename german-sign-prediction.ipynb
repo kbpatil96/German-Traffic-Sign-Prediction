{
 "cells": [
  {
   "cell_type": "code",
   "execution_count": 2,
   "metadata": {
    "_cell_guid": "b1076dfc-b9ad-4769-8c92-a6c4dae69d19",
    "_uuid": "8f2839f25d086af736a60e9eeb907d3b93b6e0e5",
    "execution": {
     "iopub.execute_input": "2022-03-07T10:04:07.331538Z",
     "iopub.status.busy": "2022-03-07T10:04:07.331276Z",
     "iopub.status.idle": "2022-03-07T10:04:07.340654Z",
     "shell.execute_reply": "2022-03-07T10:04:07.339956Z",
     "shell.execute_reply.started": "2022-03-07T10:04:07.331512Z"
    }
   },
   "outputs": [],
   "source": [
    "# Importing required libraries.\n",
    "\n",
    "import numpy as np\n",
    "import pandas as pd "
   ]
  },
  {
   "cell_type": "code",
   "execution_count": 3,
   "metadata": {
    "execution": {
     "iopub.execute_input": "2022-03-07T10:04:07.342780Z",
     "iopub.status.busy": "2022-03-07T10:04:07.342346Z",
     "iopub.status.idle": "2022-03-07T10:04:07.363040Z",
     "shell.execute_reply": "2022-03-07T10:04:07.362347Z",
     "shell.execute_reply.started": "2022-03-07T10:04:07.342746Z"
    }
   },
   "outputs": [],
   "source": [
    "# Importing crop images from location.\n",
    "os.listdir('../input/gtsrb-german-traffic-sign/Train')"
   ]
  },
  {
   "cell_type": "code",
   "execution_count": 4,
   "metadata": {
    "execution": {
     "iopub.execute_input": "2022-03-07T10:04:07.364683Z",
     "iopub.status.busy": "2022-03-07T10:04:07.364230Z",
     "iopub.status.idle": "2022-03-07T10:04:12.606738Z",
     "shell.execute_reply": "2022-03-07T10:04:12.605989Z",
     "shell.execute_reply.started": "2022-03-07T10:04:07.364649Z"
    }
   },
   "outputs": [],
   "source": [
    "# Importing tensorflow for image procesing\n",
    "from tensorflow.keras.preprocessing.image import ImageDataGenerator"
   ]
  },
  {
   "cell_type": "code",
   "execution_count": 5,
   "metadata": {
    "execution": {
     "iopub.execute_input": "2022-03-07T10:04:12.610160Z",
     "iopub.status.busy": "2022-03-07T10:04:12.609963Z",
     "iopub.status.idle": "2022-03-07T10:04:12.614058Z",
     "shell.execute_reply": "2022-03-07T10:04:12.613412Z",
     "shell.execute_reply.started": "2022-03-07T10:04:12.610135Z"
    }
   },
   "outputs": [],
   "source": [
    "# Data generation and formatting the data.\n",
    "data_gen=ImageDataGenerator(shear_range=0.2,zoom_range=0.2,horizontal_flip=True,rescale=1/255)"
   ]
  },
  {
   "cell_type": "code",
   "execution_count": 6,
   "metadata": {
    "execution": {
     "iopub.execute_input": "2022-03-07T10:04:12.619581Z",
     "iopub.status.busy": "2022-03-07T10:04:12.618942Z",
     "iopub.status.idle": "2022-03-07T10:04:36.056184Z",
     "shell.execute_reply": "2022-03-07T10:04:36.055482Z",
     "shell.execute_reply.started": "2022-03-07T10:04:12.619546Z"
    }
   },
   "outputs": [],
   "source": [
    "# Training data for checking accuracy\n",
    "train_data1=data_gen.flow_from_directory('../input/gtsrb-german-traffic-sign/Train',target_size=(150,150))"
   ]
  },
  {
   "cell_type": "code",
   "execution_count": 7,
   "metadata": {
    "execution": {
     "iopub.execute_input": "2022-03-07T10:04:36.057886Z",
     "iopub.status.busy": "2022-03-07T10:04:36.057484Z",
     "iopub.status.idle": "2022-03-07T10:04:36.063967Z",
     "shell.execute_reply": "2022-03-07T10:04:36.063280Z",
     "shell.execute_reply.started": "2022-03-07T10:04:36.057849Z"
    }
   },
   "outputs": [],
   "source": [
    "# Importing libraries for model building\n",
    "\n",
    "from tensorflow.keras.models import Sequential\n",
    "from tensorflow.keras.layers import Dense,Conv2D,Flatten,MaxPool2D"
   ]
  },
  {
   "cell_type": "code",
   "execution_count": 8,
   "metadata": {
    "execution": {
     "iopub.execute_input": "2022-03-07T10:04:36.065851Z",
     "iopub.status.busy": "2022-03-07T10:04:36.065191Z",
     "iopub.status.idle": "2022-03-07T10:04:38.617526Z",
     "shell.execute_reply": "2022-03-07T10:04:38.615777Z",
     "shell.execute_reply.started": "2022-03-07T10:04:36.065815Z"
    }
   },
   "outputs": [],
   "source": [
    "# CNN model generation\n",
    "\n",
    "model=Sequential()\n",
    "model.add(Conv2D(16,(3,3),padding='same',activation='relu',input_shape=(150,150,3)))\n",
    "model.add(MaxPool2D())\n",
    "model.add(Conv2D(32,(3,3),padding='same',activation='relu'))\n",
    "model.add(MaxPool2D())\n",
    "model.add(Conv2D(64,(3,3),padding='same',activation='relu'))\n",
    "model.add(MaxPool2D())\n",
    "model.add(Conv2D(128,(3,3),padding='same',activation='relu'))\n",
    "model.add(MaxPool2D())\n",
    "model.add(Flatten())\n",
    "model.add(Dense(43,activation='Softmax'))\n",
    "model.compile(loss='categorical_crossentropy',metrics=['accuracy'])"
   ]
  },
  {
   "cell_type": "code",
   "execution_count": 9,
   "metadata": {
    "execution": {
     "iopub.execute_input": "2022-03-07T10:04:38.619171Z",
     "iopub.status.busy": "2022-03-07T10:04:38.618932Z",
     "iopub.status.idle": "2022-03-07T10:25:56.136289Z",
     "shell.execute_reply": "2022-03-07T10:25:56.135593Z",
     "shell.execute_reply.started": "2022-03-07T10:04:38.619138Z"
    }
   },
   "outputs": [],
   "source": [
    "# CNN model training\n",
    "model.fit(train_data1,epochs=5)"
   ]
  },
  {
   "cell_type": "code",
   "execution_count": 11,
   "metadata": {
    "execution": {
     "iopub.execute_input": "2022-03-07T10:26:35.173046Z",
     "iopub.status.busy": "2022-03-07T10:26:35.172638Z",
     "iopub.status.idle": "2022-03-07T10:26:35.211778Z",
     "shell.execute_reply": "2022-03-07T10:26:35.211072Z",
     "shell.execute_reply.started": "2022-03-07T10:26:35.173011Z"
    }
   },
   "outputs": [],
   "source": [
    "model.save('german.h5')"
   ]
  },
  {
   "cell_type": "code",
   "execution_count": null,
   "metadata": {},
   "outputs": [],
   "source": []
  }
 ],
 "metadata": {
  "kernelspec": {
   "display_name": "Python 3 (ipykernel)",
   "language": "python",
   "name": "python3"
  },
  "language_info": {
   "codemirror_mode": {
    "name": "ipython",
    "version": 3
   },
   "file_extension": ".py",
   "mimetype": "text/x-python",
   "name": "python",
   "nbconvert_exporter": "python",
   "pygments_lexer": "ipython3",
   "version": "3.9.7"
  }
 },
 "nbformat": 4,
 "nbformat_minor": 4
}
